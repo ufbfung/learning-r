{
 "cells": [
  {
   "cell_type": "code",
   "execution_count": 1,
   "id": "87d396bd-7f4a-4f74-9c04-32a58fa0f1e8",
   "metadata": {},
   "outputs": [
    {
     "name": "stderr",
     "output_type": "stream",
     "text": [
      "── \u001b[1mAttaching packages\u001b[22m ─────────────────────────────────────── tidyverse 1.3.2 ──\n",
      "\u001b[32m✔\u001b[39m \u001b[34mggplot2\u001b[39m 3.4.0      \u001b[32m✔\u001b[39m \u001b[34mpurrr  \u001b[39m 0.3.5 \n",
      "\u001b[32m✔\u001b[39m \u001b[34mtibble \u001b[39m 3.1.8      \u001b[32m✔\u001b[39m \u001b[34mdplyr  \u001b[39m 1.0.10\n",
      "\u001b[32m✔\u001b[39m \u001b[34mtidyr  \u001b[39m 1.2.1      \u001b[32m✔\u001b[39m \u001b[34mstringr\u001b[39m 1.4.1 \n",
      "\u001b[32m✔\u001b[39m \u001b[34mreadr  \u001b[39m 2.1.3      \u001b[32m✔\u001b[39m \u001b[34mforcats\u001b[39m 0.5.2 \n",
      "── \u001b[1mConflicts\u001b[22m ────────────────────────────────────────── tidyverse_conflicts() ──\n",
      "\u001b[31m✖\u001b[39m \u001b[34mdplyr\u001b[39m::\u001b[32mfilter()\u001b[39m masks \u001b[34mstats\u001b[39m::filter()\n",
      "\u001b[31m✖\u001b[39m \u001b[34mdplyr\u001b[39m::\u001b[32mlag()\u001b[39m    masks \u001b[34mstats\u001b[39m::lag()\n",
      "\n",
      "Attaching package: ‘jsonlite’\n",
      "\n",
      "\n",
      "The following object is masked from ‘package:purrr’:\n",
      "\n",
      "    flatten\n",
      "\n",
      "\n"
     ]
    }
   ],
   "source": [
    "# Load packages\n",
    "library(tidyverse)\n",
    "library(httr)\n",
    "library(jsonlite)"
   ]
  },
  {
   "cell_type": "code",
   "execution_count": 2,
   "id": "83f2dad2-f5f8-4681-8cb5-51e1b02da9ba",
   "metadata": {},
   "outputs": [],
   "source": [
    "# Save username as variable\n",
    "username <- 'ufbfung'\n",
    "\n",
    "# Save base endpoint as variable\n",
    "url_git <- 'https://api.github.com/'\n",
    "\n",
    "# Construct API request\n",
    "repos <- GET(url = paste0(url_git,'users/',username,'/repos'))"
   ]
  },
  {
   "cell_type": "code",
   "execution_count": 7,
   "id": "d5eb4879-3167-40d7-861b-767be310f5cb",
   "metadata": {},
   "outputs": [
    {
     "data": {
      "text/html": [
       "'response'"
      ],
      "text/latex": [
       "'response'"
      ],
      "text/markdown": [
       "'response'"
      ],
      "text/plain": [
       "[1] \"response\""
      ]
     },
     "metadata": {},
     "output_type": "display_data"
    },
    {
     "data": {
      "text/html": [
       "<style>\n",
       ".list-inline {list-style: none; margin:0; padding: 0}\n",
       ".list-inline>li {display: inline-block}\n",
       ".list-inline>li:not(:last-child)::after {content: \"\\00b7\"; padding: 0 .5ex}\n",
       "</style>\n",
       "<ol class=list-inline><li>'url'</li><li>'status_code'</li><li>'headers'</li><li>'all_headers'</li><li>'cookies'</li><li>'content'</li><li>'date'</li><li>'times'</li><li>'request'</li><li>'handle'</li></ol>\n"
      ],
      "text/latex": [
       "\\begin{enumerate*}\n",
       "\\item 'url'\n",
       "\\item 'status\\_code'\n",
       "\\item 'headers'\n",
       "\\item 'all\\_headers'\n",
       "\\item 'cookies'\n",
       "\\item 'content'\n",
       "\\item 'date'\n",
       "\\item 'times'\n",
       "\\item 'request'\n",
       "\\item 'handle'\n",
       "\\end{enumerate*}\n"
      ],
      "text/markdown": [
       "1. 'url'\n",
       "2. 'status_code'\n",
       "3. 'headers'\n",
       "4. 'all_headers'\n",
       "5. 'cookies'\n",
       "6. 'content'\n",
       "7. 'date'\n",
       "8. 'times'\n",
       "9. 'request'\n",
       "10. 'handle'\n",
       "\n",
       "\n"
      ],
      "text/plain": [
       " [1] \"url\"         \"status_code\" \"headers\"     \"all_headers\" \"cookies\"    \n",
       " [6] \"content\"     \"date\"        \"times\"       \"request\"     \"handle\"     "
      ]
     },
     "metadata": {},
     "output_type": "display_data"
    },
    {
     "data": {
      "text/html": [
       "200"
      ],
      "text/latex": [
       "200"
      ],
      "text/markdown": [
       "200"
      ],
      "text/plain": [
       "[1] 200"
      ]
     },
     "metadata": {},
     "output_type": "display_data"
    }
   ],
   "source": [
    "# The Response\n",
    "\n",
    "# The Get() request should result in a list of objects of class(repos)==\"response\" with 10 elements.\n",
    "class(repos)\n",
    "\n",
    "# Examine response components\n",
    "names(repos)\n",
    "\n",
    "# Check status\n",
    "status_code(repos)\n",
    "\n",
    "# Useful reference for status\n",
    "# 1XX - Informational\n",
    "# 2XX - Success\n",
    "# 3XX - Client error (something is not right on YOUR end)\n",
    "# 4XX - Server error (something is not right on THEIR end)"
   ]
  },
  {
   "cell_type": "code",
   "execution_count": 8,
   "id": "8b5fb073-eff9-48e7-a2e4-c322ff9c59ab",
   "metadata": {},
   "outputs": [],
   "source": [
    "# Process API request content\n",
    "repo_content <- content(repos)"
   ]
  },
  {
   "cell_type": "code",
   "execution_count": 10,
   "id": "26a6e38c-4d25-497b-b41a-51aa83bdb914",
   "metadata": {},
   "outputs": [],
   "source": [
    "# Apply function across all list elements to extract the name and address of each repo\n",
    "repo_df <- lapply(repo_content, function(x) {\n",
    "    df <- data.frame(repo = x$name,\n",
    "                     address = x$html_url,\n",
    "                     commits = x$git_commits_url)\n",
    "    }) %>% bind_rows()"
   ]
  },
  {
   "cell_type": "code",
   "execution_count": 11,
   "id": "973da08e-4185-42ea-8884-3101a318065f",
   "metadata": {},
   "outputs": [
    {
     "data": {
      "text/html": [
       "<table class=\"dataframe\">\n",
       "<caption>A data.frame: 14 × 3</caption>\n",
       "<thead>\n",
       "\t<tr><th scope=col>repo</th><th scope=col>address</th><th scope=col>commits</th></tr>\n",
       "\t<tr><th scope=col>&lt;chr&gt;</th><th scope=col>&lt;chr&gt;</th><th scope=col>&lt;chr&gt;</th></tr>\n",
       "</thead>\n",
       "<tbody>\n",
       "\t<tr><td>coursera-ibm-watson             </td><td>https://github.com/ufbfung/coursera-ibm-watson             </td><td>https://api.github.com/repos/ufbfung/coursera-ibm-watson/git/commits{/sha}             </td></tr>\n",
       "\t<tr><td>datasciencecoursera             </td><td>https://github.com/ufbfung/datasciencecoursera             </td><td>https://api.github.com/repos/ufbfung/datasciencecoursera/git/commits{/sha}             </td></tr>\n",
       "\t<tr><td>datasharing                     </td><td>https://github.com/ufbfung/datasharing                     </td><td>https://api.github.com/repos/ufbfung/datasharing/git/commits{/sha}                     </td></tr>\n",
       "\t<tr><td>FHIR-resources                  </td><td>https://github.com/ufbfung/FHIR-resources                  </td><td>https://api.github.com/repos/ufbfung/FHIR-resources/git/commits{/sha}                  </td></tr>\n",
       "\t<tr><td>fhirfundamentals2022            </td><td>https://github.com/ufbfung/fhirfundamentals2022            </td><td>https://api.github.com/repos/ufbfung/fhirfundamentals2022/git/commits{/sha}            </td></tr>\n",
       "\t<tr><td>github-slideshow                </td><td>https://github.com/ufbfung/github-slideshow                </td><td>https://api.github.com/repos/ufbfung/github-slideshow/git/commits{/sha}                </td></tr>\n",
       "\t<tr><td>github-upload                   </td><td>https://github.com/ufbfung/github-upload                   </td><td>https://api.github.com/repos/ufbfung/github-upload/git/commits{/sha}                   </td></tr>\n",
       "\t<tr><td>hl7fundamentals                 </td><td>https://github.com/ufbfung/hl7fundamentals                 </td><td>https://api.github.com/repos/ufbfung/hl7fundamentals/git/commits{/sha}                 </td></tr>\n",
       "\t<tr><td>learning-r                      </td><td>https://github.com/ufbfung/learning-r                      </td><td>https://api.github.com/repos/ufbfung/learning-r/git/commits{/sha}                      </td></tr>\n",
       "\t<tr><td>markdown-portfolio              </td><td>https://github.com/ufbfung/markdown-portfolio              </td><td>https://api.github.com/repos/ufbfung/markdown-portfolio/git/commits{/sha}              </td></tr>\n",
       "\t<tr><td>Script-Standard                 </td><td>https://github.com/ufbfung/Script-Standard                 </td><td>https://api.github.com/repos/ufbfung/Script-Standard/git/commits{/sha}                 </td></tr>\n",
       "\t<tr><td>Temporary_add_to_version_control</td><td>https://github.com/ufbfung/Temporary_add_to_version_control</td><td>https://api.github.com/repos/ufbfung/Temporary_add_to_version_control/git/commits{/sha}</td></tr>\n",
       "\t<tr><td>testing                         </td><td>https://github.com/ufbfung/testing                         </td><td>https://api.github.com/repos/ufbfung/testing/git/commits{/sha}                         </td></tr>\n",
       "\t<tr><td>testing2                        </td><td>https://github.com/ufbfung/testing2                        </td><td>https://api.github.com/repos/ufbfung/testing2/git/commits{/sha}                        </td></tr>\n",
       "</tbody>\n",
       "</table>\n"
      ],
      "text/latex": [
       "A data.frame: 14 × 3\n",
       "\\begin{tabular}{lll}\n",
       " repo & address & commits\\\\\n",
       " <chr> & <chr> & <chr>\\\\\n",
       "\\hline\n",
       "\t coursera-ibm-watson              & https://github.com/ufbfung/coursera-ibm-watson              & https://api.github.com/repos/ufbfung/coursera-ibm-watson/git/commits\\{/sha\\}             \\\\\n",
       "\t datasciencecoursera              & https://github.com/ufbfung/datasciencecoursera              & https://api.github.com/repos/ufbfung/datasciencecoursera/git/commits\\{/sha\\}             \\\\\n",
       "\t datasharing                      & https://github.com/ufbfung/datasharing                      & https://api.github.com/repos/ufbfung/datasharing/git/commits\\{/sha\\}                     \\\\\n",
       "\t FHIR-resources                   & https://github.com/ufbfung/FHIR-resources                   & https://api.github.com/repos/ufbfung/FHIR-resources/git/commits\\{/sha\\}                  \\\\\n",
       "\t fhirfundamentals2022             & https://github.com/ufbfung/fhirfundamentals2022             & https://api.github.com/repos/ufbfung/fhirfundamentals2022/git/commits\\{/sha\\}            \\\\\n",
       "\t github-slideshow                 & https://github.com/ufbfung/github-slideshow                 & https://api.github.com/repos/ufbfung/github-slideshow/git/commits\\{/sha\\}                \\\\\n",
       "\t github-upload                    & https://github.com/ufbfung/github-upload                    & https://api.github.com/repos/ufbfung/github-upload/git/commits\\{/sha\\}                   \\\\\n",
       "\t hl7fundamentals                  & https://github.com/ufbfung/hl7fundamentals                  & https://api.github.com/repos/ufbfung/hl7fundamentals/git/commits\\{/sha\\}                 \\\\\n",
       "\t learning-r                       & https://github.com/ufbfung/learning-r                       & https://api.github.com/repos/ufbfung/learning-r/git/commits\\{/sha\\}                      \\\\\n",
       "\t markdown-portfolio               & https://github.com/ufbfung/markdown-portfolio               & https://api.github.com/repos/ufbfung/markdown-portfolio/git/commits\\{/sha\\}              \\\\\n",
       "\t Script-Standard                  & https://github.com/ufbfung/Script-Standard                  & https://api.github.com/repos/ufbfung/Script-Standard/git/commits\\{/sha\\}                 \\\\\n",
       "\t Temporary\\_add\\_to\\_version\\_control & https://github.com/ufbfung/Temporary\\_add\\_to\\_version\\_control & https://api.github.com/repos/ufbfung/Temporary\\_add\\_to\\_version\\_control/git/commits\\{/sha\\}\\\\\n",
       "\t testing                          & https://github.com/ufbfung/testing                          & https://api.github.com/repos/ufbfung/testing/git/commits\\{/sha\\}                         \\\\\n",
       "\t testing2                         & https://github.com/ufbfung/testing2                         & https://api.github.com/repos/ufbfung/testing2/git/commits\\{/sha\\}                        \\\\\n",
       "\\end{tabular}\n"
      ],
      "text/markdown": [
       "\n",
       "A data.frame: 14 × 3\n",
       "\n",
       "| repo &lt;chr&gt; | address &lt;chr&gt; | commits &lt;chr&gt; |\n",
       "|---|---|---|\n",
       "| coursera-ibm-watson              | https://github.com/ufbfung/coursera-ibm-watson              | https://api.github.com/repos/ufbfung/coursera-ibm-watson/git/commits{/sha}              |\n",
       "| datasciencecoursera              | https://github.com/ufbfung/datasciencecoursera              | https://api.github.com/repos/ufbfung/datasciencecoursera/git/commits{/sha}              |\n",
       "| datasharing                      | https://github.com/ufbfung/datasharing                      | https://api.github.com/repos/ufbfung/datasharing/git/commits{/sha}                      |\n",
       "| FHIR-resources                   | https://github.com/ufbfung/FHIR-resources                   | https://api.github.com/repos/ufbfung/FHIR-resources/git/commits{/sha}                   |\n",
       "| fhirfundamentals2022             | https://github.com/ufbfung/fhirfundamentals2022             | https://api.github.com/repos/ufbfung/fhirfundamentals2022/git/commits{/sha}             |\n",
       "| github-slideshow                 | https://github.com/ufbfung/github-slideshow                 | https://api.github.com/repos/ufbfung/github-slideshow/git/commits{/sha}                 |\n",
       "| github-upload                    | https://github.com/ufbfung/github-upload                    | https://api.github.com/repos/ufbfung/github-upload/git/commits{/sha}                    |\n",
       "| hl7fundamentals                  | https://github.com/ufbfung/hl7fundamentals                  | https://api.github.com/repos/ufbfung/hl7fundamentals/git/commits{/sha}                  |\n",
       "| learning-r                       | https://github.com/ufbfung/learning-r                       | https://api.github.com/repos/ufbfung/learning-r/git/commits{/sha}                       |\n",
       "| markdown-portfolio               | https://github.com/ufbfung/markdown-portfolio               | https://api.github.com/repos/ufbfung/markdown-portfolio/git/commits{/sha}               |\n",
       "| Script-Standard                  | https://github.com/ufbfung/Script-Standard                  | https://api.github.com/repos/ufbfung/Script-Standard/git/commits{/sha}                  |\n",
       "| Temporary_add_to_version_control | https://github.com/ufbfung/Temporary_add_to_version_control | https://api.github.com/repos/ufbfung/Temporary_add_to_version_control/git/commits{/sha} |\n",
       "| testing                          | https://github.com/ufbfung/testing                          | https://api.github.com/repos/ufbfung/testing/git/commits{/sha}                          |\n",
       "| testing2                         | https://github.com/ufbfung/testing2                         | https://api.github.com/repos/ufbfung/testing2/git/commits{/sha}                         |\n",
       "\n"
      ],
      "text/plain": [
       "   repo                            \n",
       "1  coursera-ibm-watson             \n",
       "2  datasciencecoursera             \n",
       "3  datasharing                     \n",
       "4  FHIR-resources                  \n",
       "5  fhirfundamentals2022            \n",
       "6  github-slideshow                \n",
       "7  github-upload                   \n",
       "8  hl7fundamentals                 \n",
       "9  learning-r                      \n",
       "10 markdown-portfolio              \n",
       "11 Script-Standard                 \n",
       "12 Temporary_add_to_version_control\n",
       "13 testing                         \n",
       "14 testing2                        \n",
       "   address                                                    \n",
       "1  https://github.com/ufbfung/coursera-ibm-watson             \n",
       "2  https://github.com/ufbfung/datasciencecoursera             \n",
       "3  https://github.com/ufbfung/datasharing                     \n",
       "4  https://github.com/ufbfung/FHIR-resources                  \n",
       "5  https://github.com/ufbfung/fhirfundamentals2022            \n",
       "6  https://github.com/ufbfung/github-slideshow                \n",
       "7  https://github.com/ufbfung/github-upload                   \n",
       "8  https://github.com/ufbfung/hl7fundamentals                 \n",
       "9  https://github.com/ufbfung/learning-r                      \n",
       "10 https://github.com/ufbfung/markdown-portfolio              \n",
       "11 https://github.com/ufbfung/Script-Standard                 \n",
       "12 https://github.com/ufbfung/Temporary_add_to_version_control\n",
       "13 https://github.com/ufbfung/testing                         \n",
       "14 https://github.com/ufbfung/testing2                        \n",
       "   commits                                                                                \n",
       "1  https://api.github.com/repos/ufbfung/coursera-ibm-watson/git/commits{/sha}             \n",
       "2  https://api.github.com/repos/ufbfung/datasciencecoursera/git/commits{/sha}             \n",
       "3  https://api.github.com/repos/ufbfung/datasharing/git/commits{/sha}                     \n",
       "4  https://api.github.com/repos/ufbfung/FHIR-resources/git/commits{/sha}                  \n",
       "5  https://api.github.com/repos/ufbfung/fhirfundamentals2022/git/commits{/sha}            \n",
       "6  https://api.github.com/repos/ufbfung/github-slideshow/git/commits{/sha}                \n",
       "7  https://api.github.com/repos/ufbfung/github-upload/git/commits{/sha}                   \n",
       "8  https://api.github.com/repos/ufbfung/hl7fundamentals/git/commits{/sha}                 \n",
       "9  https://api.github.com/repos/ufbfung/learning-r/git/commits{/sha}                      \n",
       "10 https://api.github.com/repos/ufbfung/markdown-portfolio/git/commits{/sha}              \n",
       "11 https://api.github.com/repos/ufbfung/Script-Standard/git/commits{/sha}                 \n",
       "12 https://api.github.com/repos/ufbfung/Temporary_add_to_version_control/git/commits{/sha}\n",
       "13 https://api.github.com/repos/ufbfung/testing/git/commits{/sha}                         \n",
       "14 https://api.github.com/repos/ufbfung/testing2/git/commits{/sha}                        "
      ]
     },
     "metadata": {},
     "output_type": "display_data"
    }
   ],
   "source": [
    "repo_df"
   ]
  },
  {
   "cell_type": "code",
   "execution_count": null,
   "id": "2ce49120-2b54-4d84-8181-3cc877b89bce",
   "metadata": {},
   "outputs": [],
   "source": []
  }
 ],
 "metadata": {
  "kernelspec": {
   "display_name": "R",
   "language": "R",
   "name": "ir"
  },
  "language_info": {
   "codemirror_mode": "r",
   "file_extension": ".r",
   "mimetype": "text/x-r-source",
   "name": "R",
   "pygments_lexer": "r",
   "version": "4.2.1"
  }
 },
 "nbformat": 4,
 "nbformat_minor": 5
}
