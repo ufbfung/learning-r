{
 "cells": [
  {
   "cell_type": "code",
   "execution_count": 129,
   "id": "5ba5d66a-c4ae-4316-ad22-9d08d208a032",
   "metadata": {},
   "outputs": [],
   "source": [
    "# Load packages\n",
    "library(tidyverse)\n",
    "library(httr)\n",
    "library(jsonlite)"
   ]
  },
  {
   "cell_type": "code",
   "execution_count": 130,
   "id": "d88adb4e-a18b-46ad-99db-0a964e790f5e",
   "metadata": {},
   "outputs": [],
   "source": [
    "# Create API Request\n",
    "\n",
    "# Save username as variable\n",
    "# username <- 'ufbfung'\n",
    "\n",
    "# Save base endpoint as variable\n",
    "url_fda <- 'https://api.fda.gov/drug/ndc.json'\n",
    "\n",
    "# Create term\n",
    "field_term <- 'dea_schedule:\"CIV\"'\n",
    "limit <- '&limit=5'\n",
    "\n",
    "# Construct API request\n",
    "ndcs <- GET(url = paste0(url_fda,'?search=',field_term,limit))\n",
    "\n",
    "# Construct API request using JSON parser\n",
    "ndc_df <- fromJSON(txt = paste0(url_fda,'?search=',field_term,limit))"
   ]
  },
  {
   "cell_type": "code",
   "execution_count": 131,
   "id": "8070b30c-f290-403d-aaa6-ee17014c9ccd",
   "metadata": {},
   "outputs": [
    {
     "data": {
      "text/html": [
       "'response'"
      ],
      "text/latex": [
       "'response'"
      ],
      "text/markdown": [
       "'response'"
      ],
      "text/plain": [
       "[1] \"response\""
      ]
     },
     "metadata": {},
     "output_type": "display_data"
    },
    {
     "data": {
      "text/html": [
       "'list'"
      ],
      "text/latex": [
       "'list'"
      ],
      "text/markdown": [
       "'list'"
      ],
      "text/plain": [
       "[1] \"list\""
      ]
     },
     "metadata": {},
     "output_type": "display_data"
    },
    {
     "data": {
      "text/html": [
       "<style>\n",
       ".list-inline {list-style: none; margin:0; padding: 0}\n",
       ".list-inline>li {display: inline-block}\n",
       ".list-inline>li:not(:last-child)::after {content: \"\\00b7\"; padding: 0 .5ex}\n",
       "</style>\n",
       "<ol class=list-inline><li>'url'</li><li>'status_code'</li><li>'headers'</li><li>'all_headers'</li><li>'cookies'</li><li>'content'</li><li>'date'</li><li>'times'</li><li>'request'</li><li>'handle'</li></ol>\n"
      ],
      "text/latex": [
       "\\begin{enumerate*}\n",
       "\\item 'url'\n",
       "\\item 'status\\_code'\n",
       "\\item 'headers'\n",
       "\\item 'all\\_headers'\n",
       "\\item 'cookies'\n",
       "\\item 'content'\n",
       "\\item 'date'\n",
       "\\item 'times'\n",
       "\\item 'request'\n",
       "\\item 'handle'\n",
       "\\end{enumerate*}\n"
      ],
      "text/markdown": [
       "1. 'url'\n",
       "2. 'status_code'\n",
       "3. 'headers'\n",
       "4. 'all_headers'\n",
       "5. 'cookies'\n",
       "6. 'content'\n",
       "7. 'date'\n",
       "8. 'times'\n",
       "9. 'request'\n",
       "10. 'handle'\n",
       "\n",
       "\n"
      ],
      "text/plain": [
       " [1] \"url\"         \"status_code\" \"headers\"     \"all_headers\" \"cookies\"    \n",
       " [6] \"content\"     \"date\"        \"times\"       \"request\"     \"handle\"     "
      ]
     },
     "metadata": {},
     "output_type": "display_data"
    },
    {
     "data": {
      "text/html": [
       "<style>\n",
       ".list-inline {list-style: none; margin:0; padding: 0}\n",
       ".list-inline>li {display: inline-block}\n",
       ".list-inline>li:not(:last-child)::after {content: \"\\00b7\"; padding: 0 .5ex}\n",
       "</style>\n",
       "<ol class=list-inline><li>'meta'</li><li>'results'</li></ol>\n"
      ],
      "text/latex": [
       "\\begin{enumerate*}\n",
       "\\item 'meta'\n",
       "\\item 'results'\n",
       "\\end{enumerate*}\n"
      ],
      "text/markdown": [
       "1. 'meta'\n",
       "2. 'results'\n",
       "\n",
       "\n"
      ],
      "text/plain": [
       "[1] \"meta\"    \"results\""
      ]
     },
     "metadata": {},
     "output_type": "display_data"
    },
    {
     "data": {
      "text/html": [
       "200"
      ],
      "text/latex": [
       "200"
      ],
      "text/markdown": [
       "200"
      ],
      "text/plain": [
       "[1] 200"
      ]
     },
     "metadata": {},
     "output_type": "display_data"
    }
   ],
   "source": [
    "# The Response\n",
    "\n",
    "# The Get() request should result in a list of objects of class(repos)==\"response\" with 10 elements.\n",
    "class(ndcs)\n",
    "class(ndc_df)\n",
    "\n",
    "# Examine response components\n",
    "names(ndcs)\n",
    "names(ndc_df)\n",
    "\n",
    "# Check status\n",
    "status_code(ndcs)\n",
    "\n",
    "# Useful reference for status\n",
    "# 1XX - Informational\n",
    "# 2XX - Success\n",
    "# 3XX - Client error (something is not right on YOUR end)\n",
    "# 4XX - Server error (something is not right on THEIR end)"
   ]
  },
  {
   "cell_type": "code",
   "execution_count": 132,
   "id": "f58cc0c3-e7b9-42b1-beff-daf3df3b6ae8",
   "metadata": {},
   "outputs": [
    {
     "name": "stderr",
     "output_type": "stream",
     "text": [
      "ERROR while rich displaying an object: Error in vapply(part, function(col) {: values must be length 5,\n",
      " but FUN(X[[9]]) result is length 9\n",
      "\n",
      "Traceback:\n",
      "1. tryCatch(withCallingHandlers({\n",
      " .     if (!mime %in% names(repr::mime2repr)) \n",
      " .         stop(\"No repr_* for mimetype \", mime, \" in repr::mime2repr\")\n",
      " .     rpr <- repr::mime2repr[[mime]](obj)\n",
      " .     if (is.null(rpr)) \n",
      " .         return(NULL)\n",
      " .     prepare_content(is.raw(rpr), rpr)\n",
      " . }, error = error_handler), error = outer_handler)\n",
      "2. tryCatchList(expr, classes, parentenv, handlers)\n",
      "3. tryCatchOne(expr, names, parentenv, handlers[[1L]])\n",
      "4. doTryCatch(return(expr), name, parentenv, handler)\n",
      "5. withCallingHandlers({\n",
      " .     if (!mime %in% names(repr::mime2repr)) \n",
      " .         stop(\"No repr_* for mimetype \", mime, \" in repr::mime2repr\")\n",
      " .     rpr <- repr::mime2repr[[mime]](obj)\n",
      " .     if (is.null(rpr)) \n",
      " .         return(NULL)\n",
      " .     prepare_content(is.raw(rpr), rpr)\n",
      " . }, error = error_handler)\n",
      "6. repr::mime2repr[[mime]](obj)\n",
      "7. repr_text.data.frame(obj)\n",
      "8. ellip_limit_arr(obj, rows, cols)\n",
      "9. arr_parts_format(parts)\n",
      "10. structure(lapply(parts, arr_part_format), omit = attr(parts, \n",
      "  .     \"omit\"))\n",
      "11. lapply(parts, arr_part_format)\n",
      "12. FUN(X[[i]], ...)\n",
      "13. vapply(part, function(col) {\n",
      "  .     if (is.matrix(col)) \n",
      "  .         apply(apply(col, 2L, format), 1L, paste, collapse = \", \")\n",
      "  .     else format(col)\n",
      "  . }, character(nrow(part)))\n"
     ]
    }
   ],
   "source": [
    "# Process API request content\n",
    "ndcs_content <- content(ndcs)\n",
    "\n",
    "test <- ndcs_content$results\n",
    "\n",
    "# Extract only results\n",
    "ndc_df <- ndc_df$results\n",
    "# Preview JSON parsed"
   ]
  },
  {
   "cell_type": "code",
   "execution_count": 133,
   "id": "3f7afb42-253b-4742-a523-aadfa4beb447",
   "metadata": {},
   "outputs": [],
   "source": [
    "# Apply function across all list elements to extract the name and address of each repo\n",
    "#ndcs_df <- lapply(ndcs_content, function(x) {\n",
    "#    df <- data.frame(product_ndc = x$product_ndc,\n",
    "#                     generic_name = x$generic_name)\n",
    "#    }) %>% bind_rows()"
   ]
  },
  {
   "cell_type": "code",
   "execution_count": null,
   "id": "a3c69290-dc7a-474c-bdcf-c39f3a66d035",
   "metadata": {},
   "outputs": [],
   "source": []
  }
 ],
 "metadata": {
  "kernelspec": {
   "display_name": "R",
   "language": "R",
   "name": "ir"
  },
  "language_info": {
   "codemirror_mode": "r",
   "file_extension": ".r",
   "mimetype": "text/x-r-source",
   "name": "R",
   "pygments_lexer": "r",
   "version": "4.2.1"
  }
 },
 "nbformat": 4,
 "nbformat_minor": 5
}
