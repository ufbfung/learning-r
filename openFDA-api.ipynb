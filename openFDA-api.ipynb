{
 "cells": [
  {
   "cell_type": "code",
   "execution_count": 23,
   "id": "5ba5d66a-c4ae-4316-ad22-9d08d208a032",
   "metadata": {},
   "outputs": [],
   "source": [
    "# Load packages\n",
    "library(tidyverse)\n",
    "library(httr)\n",
    "library(jsonlite)"
   ]
  },
  {
   "cell_type": "code",
   "execution_count": 24,
   "id": "d88adb4e-a18b-46ad-99db-0a964e790f5e",
   "metadata": {},
   "outputs": [],
   "source": [
    "# Create API Request\n",
    "\n",
    "# Save username as variable\n",
    "# username <- 'ufbfung'\n",
    "\n",
    "# Save base endpoint as variable\n",
    "url_fda <- 'https://api.fda.gov/drug/ndc.json'\n",
    "\n",
    "# Create term\n",
    "field_term <- 'dea_schedule:\"CIV\"'\n",
    "limit <- '&limit=5'\n",
    "\n",
    "# Construct API request\n",
    "ndcs <- GET(url = paste0(url_fda,'?search=',field_term,limit))\n",
    "\n",
    "# Construct API request using JSON parser\n",
    "ndc_df <- fromJSON(txt = paste0(url_fda,'?search=',field_term,limit))"
   ]
  },
  {
   "cell_type": "code",
   "execution_count": 25,
   "id": "8070b30c-f290-403d-aaa6-ee17014c9ccd",
   "metadata": {},
   "outputs": [
    {
     "data": {
      "text/html": [
       "'response'"
      ],
      "text/latex": [
       "'response'"
      ],
      "text/markdown": [
       "'response'"
      ],
      "text/plain": [
       "[1] \"response\""
      ]
     },
     "metadata": {},
     "output_type": "display_data"
    },
    {
     "data": {
      "text/html": [
       "'list'"
      ],
      "text/latex": [
       "'list'"
      ],
      "text/markdown": [
       "'list'"
      ],
      "text/plain": [
       "[1] \"list\""
      ]
     },
     "metadata": {},
     "output_type": "display_data"
    },
    {
     "data": {
      "text/html": [
       "<style>\n",
       ".list-inline {list-style: none; margin:0; padding: 0}\n",
       ".list-inline>li {display: inline-block}\n",
       ".list-inline>li:not(:last-child)::after {content: \"\\00b7\"; padding: 0 .5ex}\n",
       "</style>\n",
       "<ol class=list-inline><li>'url'</li><li>'status_code'</li><li>'headers'</li><li>'all_headers'</li><li>'cookies'</li><li>'content'</li><li>'date'</li><li>'times'</li><li>'request'</li><li>'handle'</li></ol>\n"
      ],
      "text/latex": [
       "\\begin{enumerate*}\n",
       "\\item 'url'\n",
       "\\item 'status\\_code'\n",
       "\\item 'headers'\n",
       "\\item 'all\\_headers'\n",
       "\\item 'cookies'\n",
       "\\item 'content'\n",
       "\\item 'date'\n",
       "\\item 'times'\n",
       "\\item 'request'\n",
       "\\item 'handle'\n",
       "\\end{enumerate*}\n"
      ],
      "text/markdown": [
       "1. 'url'\n",
       "2. 'status_code'\n",
       "3. 'headers'\n",
       "4. 'all_headers'\n",
       "5. 'cookies'\n",
       "6. 'content'\n",
       "7. 'date'\n",
       "8. 'times'\n",
       "9. 'request'\n",
       "10. 'handle'\n",
       "\n",
       "\n"
      ],
      "text/plain": [
       " [1] \"url\"         \"status_code\" \"headers\"     \"all_headers\" \"cookies\"    \n",
       " [6] \"content\"     \"date\"        \"times\"       \"request\"     \"handle\"     "
      ]
     },
     "metadata": {},
     "output_type": "display_data"
    },
    {
     "data": {
      "text/html": [
       "<style>\n",
       ".list-inline {list-style: none; margin:0; padding: 0}\n",
       ".list-inline>li {display: inline-block}\n",
       ".list-inline>li:not(:last-child)::after {content: \"\\00b7\"; padding: 0 .5ex}\n",
       "</style>\n",
       "<ol class=list-inline><li>'meta'</li><li>'results'</li></ol>\n"
      ],
      "text/latex": [
       "\\begin{enumerate*}\n",
       "\\item 'meta'\n",
       "\\item 'results'\n",
       "\\end{enumerate*}\n"
      ],
      "text/markdown": [
       "1. 'meta'\n",
       "2. 'results'\n",
       "\n",
       "\n"
      ],
      "text/plain": [
       "[1] \"meta\"    \"results\""
      ]
     },
     "metadata": {},
     "output_type": "display_data"
    },
    {
     "data": {
      "text/html": [
       "200"
      ],
      "text/latex": [
       "200"
      ],
      "text/markdown": [
       "200"
      ],
      "text/plain": [
       "[1] 200"
      ]
     },
     "metadata": {},
     "output_type": "display_data"
    }
   ],
   "source": [
    "# The Response\n",
    "\n",
    "# The Get() request should result in a list of objects of class(repos)==\"response\" with 10 elements.\n",
    "class(ndcs)\n",
    "class(ndc_df)\n",
    "\n",
    "# Examine response components\n",
    "names(ndcs)\n",
    "names(ndc_df)\n",
    "\n",
    "# Check status\n",
    "status_code(ndcs)\n",
    "\n",
    "# Useful reference for status\n",
    "# 1XX - Informational\n",
    "# 2XX - Success\n",
    "# 3XX - Client error (something is not right on YOUR end)\n",
    "# 4XX - Server error (something is not right on THEIR end)"
   ]
  },
  {
   "cell_type": "code",
   "execution_count": 26,
   "id": "f58cc0c3-e7b9-42b1-beff-daf3df3b6ae8",
   "metadata": {},
   "outputs": [
    {
     "ename": "ERROR",
     "evalue": "Error in (function (..., row.names = NULL, check.rows = FALSE, check.names = TRUE, : arguments imply differing number of rows: 1, 0\n",
     "output_type": "error",
     "traceback": [
      "Error in (function (..., row.names = NULL, check.rows = FALSE, check.names = TRUE, : arguments imply differing number of rows: 1, 0\nTraceback:\n",
      "1. data.frame(ndc_df)",
      "2. as.data.frame(x[[i]], optional = TRUE, stringsAsFactors = stringsAsFactors)",
      "3. as.data.frame.list(x[[i]], optional = TRUE, stringsAsFactors = stringsAsFactors)",
      "4. do.call(data.frame, c(x, alis))",
      "5. (function (..., row.names = NULL, check.rows = FALSE, check.names = TRUE, \n .     fix.empty.names = TRUE, stringsAsFactors = FALSE) \n . {\n .     data.row.names <- if (check.rows && is.null(row.names)) \n .         function(current, new, i) {\n .             if (is.character(current)) \n .                 new <- as.character(new)\n .             if (is.character(new)) \n .                 current <- as.character(current)\n .             if (anyDuplicated(new)) \n .                 return(current)\n .             if (is.null(current)) \n .                 return(new)\n .             if (all(current == new) || all(current == \"\")) \n .                 return(new)\n .             stop(gettextf(\"mismatch of row names in arguments of 'data.frame', item %d\", \n .                 i), domain = NA)\n .         }\n .     else function(current, new, i) {\n .         if (is.null(current)) {\n .             if (anyDuplicated(new)) {\n .                 warning(gettextf(\"some row.names duplicated: %s --> row.names NOT used\", \n .                   paste(which(duplicated(new)), collapse = \",\")), \n .                   domain = NA)\n .                 current\n .             }\n .             else new\n .         }\n .         else current\n .     }\n .     object <- as.list(substitute(list(...)))[-1L]\n .     mirn <- missing(row.names)\n .     mrn <- is.null(row.names)\n .     x <- list(...)\n .     n <- length(x)\n .     if (n < 1L) {\n .         if (!mrn) {\n .             if (is.object(row.names) || !is.integer(row.names)) \n .                 row.names <- as.character(row.names)\n .             if (anyNA(row.names)) \n .                 stop(\"row names contain missing values\")\n .             if (anyDuplicated(row.names)) \n .                 stop(gettextf(\"duplicate row.names: %s\", paste(unique(row.names[duplicated(row.names)]), \n .                   collapse = \", \")), domain = NA)\n .         }\n .         else row.names <- integer()\n .         return(structure(list(), names = character(), row.names = row.names, \n .             class = \"data.frame\"))\n .     }\n .     vnames <- names(x)\n .     if (length(vnames) != n) \n .         vnames <- character(n)\n .     no.vn <- !nzchar(vnames)\n .     vlist <- vnames <- as.list(vnames)\n .     nrows <- ncols <- integer(n)\n .     for (i in seq_len(n)) {\n .         xi <- if (is.character(x[[i]]) || is.list(x[[i]])) \n .             as.data.frame(x[[i]], optional = TRUE, stringsAsFactors = stringsAsFactors)\n .         else as.data.frame(x[[i]], optional = TRUE)\n .         nrows[i] <- .row_names_info(xi)\n .         ncols[i] <- length(xi)\n .         namesi <- names(xi)\n .         if (ncols[i] > 1L) {\n .             if (length(namesi) == 0L) \n .                 namesi <- seq_len(ncols[i])\n .             vnames[[i]] <- if (no.vn[i]) \n .                 namesi\n .             else paste(vnames[[i]], namesi, sep = \".\")\n .         }\n .         else if (length(namesi)) {\n .             vnames[[i]] <- namesi\n .         }\n .         else if (fix.empty.names && no.vn[[i]]) {\n .             tmpname <- deparse(object[[i]], nlines = 1L)[1L]\n .             if (startsWith(tmpname, \"I(\") && endsWith(tmpname, \n .                 \")\")) {\n .                 ntmpn <- nchar(tmpname, \"c\")\n .                 tmpname <- substr(tmpname, 3L, ntmpn - 1L)\n .             }\n .             vnames[[i]] <- tmpname\n .         }\n .         if (mirn && nrows[i] > 0L) {\n .             rowsi <- attr(xi, \"row.names\")\n .             if (any(nzchar(rowsi))) \n .                 row.names <- data.row.names(row.names, rowsi, \n .                   i)\n .         }\n .         nrows[i] <- abs(nrows[i])\n .         vlist[[i]] <- xi\n .     }\n .     nr <- max(nrows)\n .     for (i in seq_len(n)[nrows < nr]) {\n .         xi <- vlist[[i]]\n .         if (nrows[i] > 0L && (nr%%nrows[i] == 0L)) {\n .             xi <- unclass(xi)\n .             fixed <- TRUE\n .             for (j in seq_along(xi)) {\n .                 xi1 <- xi[[j]]\n .                 if (is.vector(xi1) || is.factor(xi1)) \n .                   xi[[j]] <- rep(xi1, length.out = nr)\n .                 else if (is.character(xi1) && inherits(xi1, \"AsIs\")) \n .                   xi[[j]] <- structure(rep(xi1, length.out = nr), \n .                     class = class(xi1))\n .                 else if (inherits(xi1, \"Date\") || inherits(xi1, \n .                   \"POSIXct\")) \n .                   xi[[j]] <- rep(xi1, length.out = nr)\n .                 else {\n .                   fixed <- FALSE\n .                   break\n .                 }\n .             }\n .             if (fixed) {\n .                 vlist[[i]] <- xi\n .                 next\n .             }\n .         }\n .         stop(gettextf(\"arguments imply differing number of rows: %s\", \n .             paste(unique(nrows), collapse = \", \")), domain = NA)\n .     }\n .     value <- unlist(vlist, recursive = FALSE, use.names = FALSE)\n .     vnames <- as.character(unlist(vnames[ncols > 0L]))\n .     if (fix.empty.names && any(noname <- !nzchar(vnames))) \n .         vnames[noname] <- paste0(\"Var.\", seq_along(vnames))[noname]\n .     if (check.names) {\n .         if (fix.empty.names) \n .             vnames <- make.names(vnames, unique = TRUE)\n .         else {\n .             nz <- nzchar(vnames)\n .             vnames[nz] <- make.names(vnames[nz], unique = TRUE)\n .         }\n .     }\n .     names(value) <- vnames\n .     if (!mrn) {\n .         if (length(row.names) == 1L && nr != 1L) {\n .             if (is.character(row.names)) \n .                 row.names <- match(row.names, vnames, 0L)\n .             if (length(row.names) != 1L || row.names < 1L || \n .                 row.names > length(vnames)) \n .                 stop(\"'row.names' should specify one of the variables\")\n .             i <- row.names\n .             row.names <- value[[i]]\n .             value <- value[-i]\n .         }\n .         else if (!is.null(row.names) && length(row.names) != \n .             nr) \n .             stop(\"row names supplied are of the wrong length\")\n .     }\n .     else if (!is.null(row.names) && length(row.names) != nr) {\n .         warning(\"row names were found from a short variable and have been discarded\")\n .         row.names <- NULL\n .     }\n .     class(value) <- \"data.frame\"\n .     if (is.null(row.names)) \n .         attr(value, \"row.names\") <- .set_row_names(nr)\n .     else {\n .         if (is.object(row.names) || !is.integer(row.names)) \n .             row.names <- as.character(row.names)\n .         if (anyNA(row.names)) \n .             stop(\"row names contain missing values\")\n .         if (anyDuplicated(row.names)) \n .             stop(gettextf(\"duplicate row.names: %s\", paste(unique(row.names[duplicated(row.names)]), \n .                 collapse = \", \")), domain = NA)\n .         row.names(value) <- row.names\n .     }\n .     value\n . })(list(product_ndc = \"69766-016\", generic_name = \"Clobazam\", \n .     labeler_name = \"MSN Life Sciences Private Limited\", dea_schedule = \"CIV\", \n .     active_ingredients = list(list(name = \"CLOBAZAM\", strength = \"1 kg/kg\")), \n .     finished = FALSE, packaging = list(list(package_ndc = \"69766-016-02\", \n .         description = \"25 kg in 1 DRUM (69766-016-02)\", marketing_start_date = \"25-AUG-16\")), \n .     listing_expiration_date = \"20221231\", openfda = structure(list(), names = character(0)), \n .     marketing_category = \"BULK INGREDIENT\", dosage_form = \"POWDER\", \n .     spl_id = \"97d632fe-4c41-2a65-e053-2995a90a0070\", product_type = \"BULK INGREDIENT\", \n .     marketing_start_date = \"20160825\", product_id = \"69766-016_97d632fe-4c41-2a65-e053-2995a90a0070\", \n .     brand_name_base = NULL), list(product_ndc = \"50090-1499\", \n .     generic_name = \"Phentermine Hydrochloride\", labeler_name = \"A-S Medication Solutions\", \n .     dea_schedule = \"CIV\", brand_name = \"Phentermine Hydrochloride\", \n .     active_ingredients = list(list(name = \"PHENTERMINE HYDROCHLORIDE\", \n .         strength = \"30 mg/1\")), finished = TRUE, packaging = list(\n .         list(package_ndc = \"50090-1499-2\", description = \"100 TABLET in 1 BOTTLE (50090-1499-2)\", \n .             marketing_start_date = \"20141205\", sample = FALSE)), \n .     listing_expiration_date = \"20221231\", openfda = list(manufacturer_name = list(\n .         \"A-S Medication Solutions\"), rxcui = list(\"803353\"), \n .         spl_set_id = list(\"77c5941e-49ca-4b60-9743-14192bdc3e2f\"), \n .         unii = list(\"0K2I505OTV\")), marketing_category = \"ANDA\", \n .     dosage_form = \"TABLET\", spl_id = \"4f696981-5925-4438-a5a9-00715fb27b01\", \n .     product_type = \"HUMAN PRESCRIPTION DRUG\", route = list(\"ORAL\"), \n .     marketing_start_date = \"20130812\", product_id = \"50090-1499_4f696981-5925-4438-a5a9-00715fb27b01\", \n .     application_number = \"ANDA040526\", brand_name_base = \"Phentermine Hydrochloride\", \n .     pharm_class = list(\"Appetite Suppression [PE]\", \"Increased Sympathetic Activity [PE]\", \n .         \"Sympathomimetic Amine Anorectic [EPC]\")), list(product_ndc = \"50090-5096\", \n .     generic_name = \"Zolpidem Tartrate\", labeler_name = \"A-S Medication Solutions\", \n .     dea_schedule = \"CIV\", brand_name = \"Zolpidem Tartrate\", active_ingredients = list(\n .         list(name = \"ZOLPIDEM TARTRATE\", strength = \"5 mg/1\")), \n .     finished = TRUE, packaging = list(list(package_ndc = \"50090-5096-0\", \n .         description = \"90 TABLET, FILM COATED in 1 BOTTLE (50090-5096-0)\", \n .         marketing_start_date = \"20200708\", sample = FALSE)), \n .     listing_expiration_date = \"20221231\", openfda = list(manufacturer_name = list(\n .         \"A-S Medication Solutions\"), rxcui = list(\"854876\"), \n .         spl_set_id = list(\"d0afe097-277f-484b-812e-1b5e72c03ada\"), \n .         unii = list(\"WY6W63843K\")), marketing_category = \"ANDA\", \n .     dosage_form = \"TABLET, FILM COATED\", spl_id = \"837fd2cc-013b-4e35-972f-d399abcebb1f\", \n .     product_type = \"HUMAN PRESCRIPTION DRUG\", route = list(\"ORAL\"), \n .     marketing_start_date = \"20070504\", product_id = \"50090-5096_837fd2cc-013b-4e35-972f-d399abcebb1f\", \n .     application_number = \"ANDA078413\", brand_name_base = \"Zolpidem Tartrate\", \n .     pharm_class = list(\"Central Nervous System Depression [PE]\", \n .         \"GABA A Agonists [MoA]\", \"Pyridines [CS]\", \"gamma-Aminobutyric Acid-ergic Agonist [EPC]\")), \n .     list(product_ndc = \"62332-380\", generic_name = \"Temazepam\", \n .         labeler_name = \"Alembic Pharmaceuticals Inc.\", dea_schedule = \"CIV\", \n .         brand_name = \"Temazepam\", active_ingredients = list(list(\n .             name = \"TEMAZEPAM\", strength = \"15 mg/1\")), finished = TRUE, \n .         packaging = list(list(package_ndc = \"62332-380-30\", description = \"30 CAPSULE in 1 BOTTLE (62332-380-30)\", \n .             marketing_start_date = \"20181127\", sample = FALSE), \n .             list(package_ndc = \"62332-380-31\", description = \"100 CAPSULE in 1 BOTTLE (62332-380-31)\", \n .                 marketing_start_date = \"20181127\", sample = FALSE), \n .             list(package_ndc = \"62332-380-71\", description = \"500 CAPSULE in 1 BOTTLE (62332-380-71)\", \n .                 marketing_start_date = \"20181127\", sample = FALSE), \n .             list(package_ndc = \"62332-380-90\", description = \"90 CAPSULE in 1 BOTTLE (62332-380-90)\", \n .                 marketing_start_date = \"20181127\", sample = FALSE)), \n .         listing_expiration_date = \"20231231\", openfda = list(\n .             manufacturer_name = list(\"Alembic Pharmaceuticals Inc.\"), \n .             rxcui = list(\"198241\", \"198242\", \"198243\", \"485489\"), \n .             spl_set_id = list(\"93b1be7f-ec41-46bb-a258-56cb459e2c92\"), \n .             is_original_packager = list(TRUE), upc = list(\"0362332380305\"), \n .             nui = list(\"N0000175694\", \"M0002356\"), pharm_class_epc = list(\n .                 \"Benzodiazepine [EPC]\"), pharm_class_cs = list(\n .                 \"Benzodiazepines [CS]\"), unii = list(\"CHB1QD2QSS\")), \n .         marketing_category = \"ANDA\", dosage_form = \"CAPSULE\", \n .         spl_id = \"0c4fb84c-0dc5-45dc-8bfe-26b1e2300a63\", product_type = \"HUMAN PRESCRIPTION DRUG\", \n .         route = list(\"ORAL\"), marketing_start_date = \"20181127\", \n .         product_id = \"62332-380_0c4fb84c-0dc5-45dc-8bfe-26b1e2300a63\", \n .         application_number = \"ANDA211542\", brand_name_base = \"Temazepam\", \n .         pharm_class = list(\"Benzodiazepine [EPC]\", \"Benzodiazepines [CS]\")), \n .     list(product_ndc = \"71335-1856\", generic_name = \"clonazepam\", \n .         labeler_name = \"Bryant Ranch Prepack\", dea_schedule = \"CIV\", \n .         brand_name = \"Clonazepam\", active_ingredients = list(\n .             list(name = \"CLONAZEPAM\", strength = \"2 mg/1\")), \n .         finished = TRUE, packaging = list(list(package_ndc = \"71335-1856-1\", \n .             description = \"30 TABLET in 1 BOTTLE, PLASTIC (71335-1856-1)\", \n .             marketing_start_date = \"20211221\", sample = FALSE), \n .             list(package_ndc = \"71335-1856-2\", description = \"60 TABLET in 1 BOTTLE, PLASTIC (71335-1856-2)\", \n .                 marketing_start_date = \"20211221\", sample = FALSE), \n .             list(package_ndc = \"71335-1856-3\", description = \"90 TABLET in 1 BOTTLE, PLASTIC (71335-1856-3)\", \n .                 marketing_start_date = \"20211221\", sample = FALSE), \n .             list(package_ndc = \"71335-1856-4\", description = \"120 TABLET in 1 BOTTLE, PLASTIC (71335-1856-4)\", \n .                 marketing_start_date = \"20211221\", sample = FALSE), \n .             list(package_ndc = \"71335-1856-5\", description = \"10 TABLET in 1 BOTTLE, PLASTIC (71335-1856-5)\", \n .                 marketing_start_date = \"20211221\", sample = FALSE), \n .             list(package_ndc = \"71335-1856-6\", description = \"180 TABLET in 1 BOTTLE, PLASTIC (71335-1856-6)\", \n .                 marketing_start_date = \"20211221\", sample = FALSE)), \n .         listing_expiration_date = \"20231231\", openfda = list(\n .             manufacturer_name = list(\"Bryant Ranch Prepack\"), \n .             rxcui = list(\"197529\"), spl_set_id = list(\"5f3a2f64-57ed-475c-9d8c-b2094bf1d79e\"), \n .             nui = list(\"N0000175694\", \"M0002356\"), pharm_class_epc = list(\n .                 \"Benzodiazepine [EPC]\"), pharm_class_cs = list(\n .                 \"Benzodiazepines [CS]\"), unii = list(\"5PE9FDE8GB\")), \n .         marketing_category = \"ANDA\", dosage_form = \"TABLET\", \n .         spl_id = \"d0af3b06-4df9-4500-8595-70cf1c3dcb41\", product_type = \"HUMAN PRESCRIPTION DRUG\", \n .         route = list(\"ORAL\"), marketing_start_date = \"20180215\", \n .         product_id = \"71335-1856_d0af3b06-4df9-4500-8595-70cf1c3dcb41\", \n .         application_number = \"ANDA077856\", brand_name_base = \"Clonazepam\", \n .         pharm_class = list(\"Benzodiazepine [EPC]\", \"Benzodiazepines [CS]\")), \n .     check.names = FALSE, fix.empty.names = TRUE, stringsAsFactors = FALSE)",
      "6. as.data.frame(x[[i]], optional = TRUE, stringsAsFactors = stringsAsFactors)",
      "7. as.data.frame.list(x[[i]], optional = TRUE, stringsAsFactors = stringsAsFactors)",
      "8. do.call(data.frame, c(x, alis))",
      "9. (function (..., row.names = NULL, check.rows = FALSE, check.names = TRUE, \n .     fix.empty.names = TRUE, stringsAsFactors = FALSE) \n . {\n .     data.row.names <- if (check.rows && is.null(row.names)) \n .         function(current, new, i) {\n .             if (is.character(current)) \n .                 new <- as.character(new)\n .             if (is.character(new)) \n .                 current <- as.character(current)\n .             if (anyDuplicated(new)) \n .                 return(current)\n .             if (is.null(current)) \n .                 return(new)\n .             if (all(current == new) || all(current == \"\")) \n .                 return(new)\n .             stop(gettextf(\"mismatch of row names in arguments of 'data.frame', item %d\", \n .                 i), domain = NA)\n .         }\n .     else function(current, new, i) {\n .         if (is.null(current)) {\n .             if (anyDuplicated(new)) {\n .                 warning(gettextf(\"some row.names duplicated: %s --> row.names NOT used\", \n .                   paste(which(duplicated(new)), collapse = \",\")), \n .                   domain = NA)\n .                 current\n .             }\n .             else new\n .         }\n .         else current\n .     }\n .     object <- as.list(substitute(list(...)))[-1L]\n .     mirn <- missing(row.names)\n .     mrn <- is.null(row.names)\n .     x <- list(...)\n .     n <- length(x)\n .     if (n < 1L) {\n .         if (!mrn) {\n .             if (is.object(row.names) || !is.integer(row.names)) \n .                 row.names <- as.character(row.names)\n .             if (anyNA(row.names)) \n .                 stop(\"row names contain missing values\")\n .             if (anyDuplicated(row.names)) \n .                 stop(gettextf(\"duplicate row.names: %s\", paste(unique(row.names[duplicated(row.names)]), \n .                   collapse = \", \")), domain = NA)\n .         }\n .         else row.names <- integer()\n .         return(structure(list(), names = character(), row.names = row.names, \n .             class = \"data.frame\"))\n .     }\n .     vnames <- names(x)\n .     if (length(vnames) != n) \n .         vnames <- character(n)\n .     no.vn <- !nzchar(vnames)\n .     vlist <- vnames <- as.list(vnames)\n .     nrows <- ncols <- integer(n)\n .     for (i in seq_len(n)) {\n .         xi <- if (is.character(x[[i]]) || is.list(x[[i]])) \n .             as.data.frame(x[[i]], optional = TRUE, stringsAsFactors = stringsAsFactors)\n .         else as.data.frame(x[[i]], optional = TRUE)\n .         nrows[i] <- .row_names_info(xi)\n .         ncols[i] <- length(xi)\n .         namesi <- names(xi)\n .         if (ncols[i] > 1L) {\n .             if (length(namesi) == 0L) \n .                 namesi <- seq_len(ncols[i])\n .             vnames[[i]] <- if (no.vn[i]) \n .                 namesi\n .             else paste(vnames[[i]], namesi, sep = \".\")\n .         }\n .         else if (length(namesi)) {\n .             vnames[[i]] <- namesi\n .         }\n .         else if (fix.empty.names && no.vn[[i]]) {\n .             tmpname <- deparse(object[[i]], nlines = 1L)[1L]\n .             if (startsWith(tmpname, \"I(\") && endsWith(tmpname, \n .                 \")\")) {\n .                 ntmpn <- nchar(tmpname, \"c\")\n .                 tmpname <- substr(tmpname, 3L, ntmpn - 1L)\n .             }\n .             vnames[[i]] <- tmpname\n .         }\n .         if (mirn && nrows[i] > 0L) {\n .             rowsi <- attr(xi, \"row.names\")\n .             if (any(nzchar(rowsi))) \n .                 row.names <- data.row.names(row.names, rowsi, \n .                   i)\n .         }\n .         nrows[i] <- abs(nrows[i])\n .         vlist[[i]] <- xi\n .     }\n .     nr <- max(nrows)\n .     for (i in seq_len(n)[nrows < nr]) {\n .         xi <- vlist[[i]]\n .         if (nrows[i] > 0L && (nr%%nrows[i] == 0L)) {\n .             xi <- unclass(xi)\n .             fixed <- TRUE\n .             for (j in seq_along(xi)) {\n .                 xi1 <- xi[[j]]\n .                 if (is.vector(xi1) || is.factor(xi1)) \n .                   xi[[j]] <- rep(xi1, length.out = nr)\n .                 else if (is.character(xi1) && inherits(xi1, \"AsIs\")) \n .                   xi[[j]] <- structure(rep(xi1, length.out = nr), \n .                     class = class(xi1))\n .                 else if (inherits(xi1, \"Date\") || inherits(xi1, \n .                   \"POSIXct\")) \n .                   xi[[j]] <- rep(xi1, length.out = nr)\n .                 else {\n .                   fixed <- FALSE\n .                   break\n .                 }\n .             }\n .             if (fixed) {\n .                 vlist[[i]] <- xi\n .                 next\n .             }\n .         }\n .         stop(gettextf(\"arguments imply differing number of rows: %s\", \n .             paste(unique(nrows), collapse = \", \")), domain = NA)\n .     }\n .     value <- unlist(vlist, recursive = FALSE, use.names = FALSE)\n .     vnames <- as.character(unlist(vnames[ncols > 0L]))\n .     if (fix.empty.names && any(noname <- !nzchar(vnames))) \n .         vnames[noname] <- paste0(\"Var.\", seq_along(vnames))[noname]\n .     if (check.names) {\n .         if (fix.empty.names) \n .             vnames <- make.names(vnames, unique = TRUE)\n .         else {\n .             nz <- nzchar(vnames)\n .             vnames[nz] <- make.names(vnames[nz], unique = TRUE)\n .         }\n .     }\n .     names(value) <- vnames\n .     if (!mrn) {\n .         if (length(row.names) == 1L && nr != 1L) {\n .             if (is.character(row.names)) \n .                 row.names <- match(row.names, vnames, 0L)\n .             if (length(row.names) != 1L || row.names < 1L || \n .                 row.names > length(vnames)) \n .                 stop(\"'row.names' should specify one of the variables\")\n .             i <- row.names\n .             row.names <- value[[i]]\n .             value <- value[-i]\n .         }\n .         else if (!is.null(row.names) && length(row.names) != \n .             nr) \n .             stop(\"row names supplied are of the wrong length\")\n .     }\n .     else if (!is.null(row.names) && length(row.names) != nr) {\n .         warning(\"row names were found from a short variable and have been discarded\")\n .         row.names <- NULL\n .     }\n .     class(value) <- \"data.frame\"\n .     if (is.null(row.names)) \n .         attr(value, \"row.names\") <- .set_row_names(nr)\n .     else {\n .         if (is.object(row.names) || !is.integer(row.names)) \n .             row.names <- as.character(row.names)\n .         if (anyNA(row.names)) \n .             stop(\"row names contain missing values\")\n .         if (anyDuplicated(row.names)) \n .             stop(gettextf(\"duplicate row.names: %s\", paste(unique(row.names[duplicated(row.names)]), \n .                 collapse = \", \")), domain = NA)\n .         row.names(value) <- row.names\n .     }\n .     value\n . })(product_ndc = \"69766-016\", generic_name = \"Clobazam\", labeler_name = \"MSN Life Sciences Private Limited\", \n .     dea_schedule = \"CIV\", active_ingredients = list(list(name = \"CLOBAZAM\", \n .         strength = \"1 kg/kg\")), finished = FALSE, packaging = list(\n .         list(package_ndc = \"69766-016-02\", description = \"25 kg in 1 DRUM (69766-016-02)\", \n .             marketing_start_date = \"25-AUG-16\")), listing_expiration_date = \"20221231\", \n .     openfda = structure(list(), names = character(0)), marketing_category = \"BULK INGREDIENT\", \n .     dosage_form = \"POWDER\", spl_id = \"97d632fe-4c41-2a65-e053-2995a90a0070\", \n .     product_type = \"BULK INGREDIENT\", marketing_start_date = \"20160825\", \n .     product_id = \"69766-016_97d632fe-4c41-2a65-e053-2995a90a0070\", \n .     brand_name_base = NULL, check.names = FALSE, fix.empty.names = TRUE, \n .     stringsAsFactors = FALSE)",
      "10. stop(gettextf(\"arguments imply differing number of rows: %s\", \n  .     paste(unique(nrows), collapse = \", \")), domain = NA)"
     ]
    }
   ],
   "source": [
    "# Process API request content\n",
    "ndcs_content <- content(ndcs)\n",
    "\n",
    "ndc_df <- ndcs_content$results\n",
    "\n",
    "ndc_df <- data.frame(ndc_df)\n",
    "\n",
    "glimpse(ndc_df)\n",
    "\n",
    "\n",
    "\n",
    "# Extract only results\n",
    "#ndc_df <- select(ndc_df,product_ndc,generic_name) \n",
    "                 \n",
    "#ndc_df"
   ]
  },
  {
   "cell_type": "code",
   "execution_count": null,
   "id": "3f7afb42-253b-4742-a523-aadfa4beb447",
   "metadata": {},
   "outputs": [],
   "source": [
    "# Apply function across all list elements to extract the name and address of each repo\n",
    "#ndcs_df <- lapply(ndcs_content, function(x) {\n",
    "#    df <- data.frame(product_ndc = x$product_ndc,\n",
    "#                     generic_name = x$generic_name)\n",
    "#    }) %>% bind_rows()"
   ]
  },
  {
   "cell_type": "code",
   "execution_count": null,
   "id": "a3c69290-dc7a-474c-bdcf-c39f3a66d035",
   "metadata": {},
   "outputs": [],
   "source": []
  }
 ],
 "metadata": {
  "kernelspec": {
   "display_name": "R",
   "language": "R",
   "name": "ir"
  },
  "language_info": {
   "codemirror_mode": "r",
   "file_extension": ".r",
   "mimetype": "text/x-r-source",
   "name": "R",
   "pygments_lexer": "r",
   "version": "4.2.1"
  }
 },
 "nbformat": 4,
 "nbformat_minor": 5
}
