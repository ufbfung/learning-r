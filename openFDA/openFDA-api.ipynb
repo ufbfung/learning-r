{
 "cells": [
  {
   "cell_type": "code",
   "execution_count": 27,
   "id": "5ba5d66a-c4ae-4316-ad22-9d08d208a032",
   "metadata": {},
   "outputs": [],
   "source": [
    "# Load packages\n",
    "library(tidyverse)\n",
    "library(httr)\n",
    "library(jsonlite)"
   ]
  },
  {
   "cell_type": "code",
   "execution_count": 28,
   "id": "d88adb4e-a18b-46ad-99db-0a964e790f5e",
   "metadata": {},
   "outputs": [],
   "source": [
    "# Create API Request\n",
    "\n",
    "# Save username as variable\n",
    "# username <- 'ufbfung'\n",
    "\n",
    "# Save base endpoint as variable\n",
    "url_fda <- 'https://api.fda.gov/drug/ndc.json'\n",
    "\n",
    "# Create term\n",
    "field_term <- 'dea_schedule:\"CIV\"'\n",
    "limit <- '&limit=5'\n",
    "\n",
    "# Construct API request\n",
    "ndcs <- GET(url = paste0(url_fda,'?search=',field_term,limit))\n",
    "\n",
    "# Construct API request using JSON parser\n",
    "ndc_df <- fromJSON(txt = paste0(url_fda,'?search=',field_term,limit))"
   ]
  },
  {
   "cell_type": "code",
   "execution_count": 29,
   "id": "8070b30c-f290-403d-aaa6-ee17014c9ccd",
   "metadata": {},
   "outputs": [
    {
     "data": {
      "text/html": [
       "'response'"
      ],
      "text/latex": [
       "'response'"
      ],
      "text/markdown": [
       "'response'"
      ],
      "text/plain": [
       "[1] \"response\""
      ]
     },
     "metadata": {},
     "output_type": "display_data"
    },
    {
     "data": {
      "text/html": [
       "'list'"
      ],
      "text/latex": [
       "'list'"
      ],
      "text/markdown": [
       "'list'"
      ],
      "text/plain": [
       "[1] \"list\""
      ]
     },
     "metadata": {},
     "output_type": "display_data"
    },
    {
     "data": {
      "text/html": [
       "<style>\n",
       ".list-inline {list-style: none; margin:0; padding: 0}\n",
       ".list-inline>li {display: inline-block}\n",
       ".list-inline>li:not(:last-child)::after {content: \"\\00b7\"; padding: 0 .5ex}\n",
       "</style>\n",
       "<ol class=list-inline><li>'url'</li><li>'status_code'</li><li>'headers'</li><li>'all_headers'</li><li>'cookies'</li><li>'content'</li><li>'date'</li><li>'times'</li><li>'request'</li><li>'handle'</li></ol>\n"
      ],
      "text/latex": [
       "\\begin{enumerate*}\n",
       "\\item 'url'\n",
       "\\item 'status\\_code'\n",
       "\\item 'headers'\n",
       "\\item 'all\\_headers'\n",
       "\\item 'cookies'\n",
       "\\item 'content'\n",
       "\\item 'date'\n",
       "\\item 'times'\n",
       "\\item 'request'\n",
       "\\item 'handle'\n",
       "\\end{enumerate*}\n"
      ],
      "text/markdown": [
       "1. 'url'\n",
       "2. 'status_code'\n",
       "3. 'headers'\n",
       "4. 'all_headers'\n",
       "5. 'cookies'\n",
       "6. 'content'\n",
       "7. 'date'\n",
       "8. 'times'\n",
       "9. 'request'\n",
       "10. 'handle'\n",
       "\n",
       "\n"
      ],
      "text/plain": [
       " [1] \"url\"         \"status_code\" \"headers\"     \"all_headers\" \"cookies\"    \n",
       " [6] \"content\"     \"date\"        \"times\"       \"request\"     \"handle\"     "
      ]
     },
     "metadata": {},
     "output_type": "display_data"
    },
    {
     "data": {
      "text/html": [
       "<style>\n",
       ".list-inline {list-style: none; margin:0; padding: 0}\n",
       ".list-inline>li {display: inline-block}\n",
       ".list-inline>li:not(:last-child)::after {content: \"\\00b7\"; padding: 0 .5ex}\n",
       "</style>\n",
       "<ol class=list-inline><li>'meta'</li><li>'results'</li></ol>\n"
      ],
      "text/latex": [
       "\\begin{enumerate*}\n",
       "\\item 'meta'\n",
       "\\item 'results'\n",
       "\\end{enumerate*}\n"
      ],
      "text/markdown": [
       "1. 'meta'\n",
       "2. 'results'\n",
       "\n",
       "\n"
      ],
      "text/plain": [
       "[1] \"meta\"    \"results\""
      ]
     },
     "metadata": {},
     "output_type": "display_data"
    },
    {
     "data": {
      "text/html": [
       "200"
      ],
      "text/latex": [
       "200"
      ],
      "text/markdown": [
       "200"
      ],
      "text/plain": [
       "[1] 200"
      ]
     },
     "metadata": {},
     "output_type": "display_data"
    }
   ],
   "source": [
    "# The Response\n",
    "\n",
    "# The Get() request should result in a list of objects of class(repos)==\"response\" with 10 elements.\n",
    "class(ndcs)\n",
    "class(ndc_df)\n",
    "\n",
    "# Examine response components\n",
    "names(ndcs)\n",
    "names(ndc_df)\n",
    "\n",
    "# Check status\n",
    "status_code(ndcs)\n",
    "\n",
    "# Useful reference for status\n",
    "# 1XX - Informational\n",
    "# 2XX - Success\n",
    "# 3XX - Client error (something is not right on YOUR end)\n",
    "# 4XX - Server error (something is not right on THEIR end)"
   ]
  },
  {
   "cell_type": "code",
   "execution_count": 30,
   "id": "f58cc0c3-e7b9-42b1-beff-daf3df3b6ae8",
   "metadata": {},
   "outputs": [
    {
     "name": "stdout",
     "output_type": "stream",
     "text": [
      "List of 5\n",
      " $ :List of 16\n",
      "  ..$ product_ndc            : chr \"69766-016\"\n",
      "  ..$ generic_name           : chr \"Clobazam\"\n",
      "  ..$ labeler_name           : chr \"MSN Life Sciences Private Limited\"\n",
      "  ..$ dea_schedule           : chr \"CIV\"\n",
      "  ..$ active_ingredients     :List of 1\n",
      "  .. ..$ :List of 2\n",
      "  ..$ finished               : logi FALSE\n",
      "  ..$ packaging              :List of 1\n",
      "  .. ..$ :List of 3\n",
      "  ..$ listing_expiration_date: chr \"20221231\"\n",
      "  ..$ openfda                : Named list()\n",
      "  ..$ marketing_category     : chr \"BULK INGREDIENT\"\n",
      "  ..$ dosage_form            : chr \"POWDER\"\n",
      "  ..$ spl_id                 : chr \"97d632fe-4c41-2a65-e053-2995a90a0070\"\n",
      "  ..$ product_type           : chr \"BULK INGREDIENT\"\n",
      "  ..$ marketing_start_date   : chr \"20160825\"\n",
      "  ..$ product_id             : chr \"69766-016_97d632fe-4c41-2a65-e053-2995a90a0070\"\n",
      "  ..$ brand_name_base        : NULL\n",
      " $ :List of 20\n",
      "  ..$ product_ndc            : chr \"50090-1499\"\n",
      "  ..$ generic_name           : chr \"Phentermine Hydrochloride\"\n",
      "  ..$ labeler_name           : chr \"A-S Medication Solutions\"\n",
      "  ..$ dea_schedule           : chr \"CIV\"\n",
      "  ..$ brand_name             : chr \"Phentermine Hydrochloride\"\n",
      "  ..$ active_ingredients     :List of 1\n",
      "  .. ..$ :List of 2\n",
      "  ..$ finished               : logi TRUE\n",
      "  ..$ packaging              :List of 1\n",
      "  .. ..$ :List of 4\n",
      "  ..$ listing_expiration_date: chr \"20221231\"\n",
      "  ..$ openfda                :List of 4\n",
      "  .. ..$ manufacturer_name:List of 1\n",
      "  .. ..$ rxcui            :List of 1\n",
      "  .. ..$ spl_set_id       :List of 1\n",
      "  .. ..$ unii             :List of 1\n",
      "  ..$ marketing_category     : chr \"ANDA\"\n",
      "  ..$ dosage_form            : chr \"TABLET\"\n",
      "  ..$ spl_id                 : chr \"4f696981-5925-4438-a5a9-00715fb27b01\"\n",
      "  ..$ product_type           : chr \"HUMAN PRESCRIPTION DRUG\"\n",
      "  ..$ route                  :List of 1\n",
      "  .. ..$ : chr \"ORAL\"\n",
      "  ..$ marketing_start_date   : chr \"20130812\"\n",
      "  ..$ product_id             : chr \"50090-1499_4f696981-5925-4438-a5a9-00715fb27b01\"\n",
      "  ..$ application_number     : chr \"ANDA040526\"\n",
      "  ..$ brand_name_base        : chr \"Phentermine Hydrochloride\"\n",
      "  ..$ pharm_class            :List of 3\n",
      "  .. ..$ : chr \"Appetite Suppression [PE]\"\n",
      "  .. ..$ : chr \"Increased Sympathetic Activity [PE]\"\n",
      "  .. ..$ : chr \"Sympathomimetic Amine Anorectic [EPC]\"\n",
      " $ :List of 20\n",
      "  ..$ product_ndc            : chr \"50090-5096\"\n",
      "  ..$ generic_name           : chr \"Zolpidem Tartrate\"\n",
      "  ..$ labeler_name           : chr \"A-S Medication Solutions\"\n",
      "  ..$ dea_schedule           : chr \"CIV\"\n",
      "  ..$ brand_name             : chr \"Zolpidem Tartrate\"\n",
      "  ..$ active_ingredients     :List of 1\n",
      "  .. ..$ :List of 2\n",
      "  ..$ finished               : logi TRUE\n",
      "  ..$ packaging              :List of 1\n",
      "  .. ..$ :List of 4\n",
      "  ..$ listing_expiration_date: chr \"20221231\"\n",
      "  ..$ openfda                :List of 4\n",
      "  .. ..$ manufacturer_name:List of 1\n",
      "  .. ..$ rxcui            :List of 1\n",
      "  .. ..$ spl_set_id       :List of 1\n",
      "  .. ..$ unii             :List of 1\n",
      "  ..$ marketing_category     : chr \"ANDA\"\n",
      "  ..$ dosage_form            : chr \"TABLET, FILM COATED\"\n",
      "  ..$ spl_id                 : chr \"837fd2cc-013b-4e35-972f-d399abcebb1f\"\n",
      "  ..$ product_type           : chr \"HUMAN PRESCRIPTION DRUG\"\n",
      "  ..$ route                  :List of 1\n",
      "  .. ..$ : chr \"ORAL\"\n",
      "  ..$ marketing_start_date   : chr \"20070504\"\n",
      "  ..$ product_id             : chr \"50090-5096_837fd2cc-013b-4e35-972f-d399abcebb1f\"\n",
      "  ..$ application_number     : chr \"ANDA078413\"\n",
      "  ..$ brand_name_base        : chr \"Zolpidem Tartrate\"\n",
      "  ..$ pharm_class            :List of 4\n",
      "  .. ..$ : chr \"Central Nervous System Depression [PE]\"\n",
      "  .. ..$ : chr \"GABA A Agonists [MoA]\"\n",
      "  .. ..$ : chr \"Pyridines [CS]\"\n",
      "  .. ..$ : chr \"gamma-Aminobutyric Acid-ergic Agonist [EPC]\"\n",
      " $ :List of 20\n",
      "  ..$ product_ndc            : chr \"62332-380\"\n",
      "  ..$ generic_name           : chr \"Temazepam\"\n",
      "  ..$ labeler_name           : chr \"Alembic Pharmaceuticals Inc.\"\n",
      "  ..$ dea_schedule           : chr \"CIV\"\n",
      "  ..$ brand_name             : chr \"Temazepam\"\n",
      "  ..$ active_ingredients     :List of 1\n",
      "  .. ..$ :List of 2\n",
      "  ..$ finished               : logi TRUE\n",
      "  ..$ packaging              :List of 4\n",
      "  .. ..$ :List of 4\n",
      "  .. ..$ :List of 4\n",
      "  .. ..$ :List of 4\n",
      "  .. ..$ :List of 4\n",
      "  ..$ listing_expiration_date: chr \"20231231\"\n",
      "  ..$ openfda                :List of 9\n",
      "  .. ..$ manufacturer_name   :List of 1\n",
      "  .. ..$ rxcui               :List of 4\n",
      "  .. ..$ spl_set_id          :List of 1\n",
      "  .. ..$ is_original_packager:List of 1\n",
      "  .. ..$ upc                 :List of 1\n",
      "  .. ..$ nui                 :List of 2\n",
      "  .. ..$ pharm_class_epc     :List of 1\n",
      "  .. ..$ pharm_class_cs      :List of 1\n",
      "  .. ..$ unii                :List of 1\n",
      "  ..$ marketing_category     : chr \"ANDA\"\n",
      "  ..$ dosage_form            : chr \"CAPSULE\"\n",
      "  ..$ spl_id                 : chr \"0c4fb84c-0dc5-45dc-8bfe-26b1e2300a63\"\n",
      "  ..$ product_type           : chr \"HUMAN PRESCRIPTION DRUG\"\n",
      "  ..$ route                  :List of 1\n",
      "  .. ..$ : chr \"ORAL\"\n",
      "  ..$ marketing_start_date   : chr \"20181127\"\n",
      "  ..$ product_id             : chr \"62332-380_0c4fb84c-0dc5-45dc-8bfe-26b1e2300a63\"\n",
      "  ..$ application_number     : chr \"ANDA211542\"\n",
      "  ..$ brand_name_base        : chr \"Temazepam\"\n",
      "  ..$ pharm_class            :List of 2\n",
      "  .. ..$ : chr \"Benzodiazepine [EPC]\"\n",
      "  .. ..$ : chr \"Benzodiazepines [CS]\"\n",
      " $ :List of 20\n",
      "  ..$ product_ndc            : chr \"71335-1856\"\n",
      "  ..$ generic_name           : chr \"clonazepam\"\n",
      "  ..$ labeler_name           : chr \"Bryant Ranch Prepack\"\n",
      "  ..$ dea_schedule           : chr \"CIV\"\n",
      "  ..$ brand_name             : chr \"Clonazepam\"\n",
      "  ..$ active_ingredients     :List of 1\n",
      "  .. ..$ :List of 2\n",
      "  ..$ finished               : logi TRUE\n",
      "  ..$ packaging              :List of 6\n",
      "  .. ..$ :List of 4\n",
      "  .. ..$ :List of 4\n",
      "  .. ..$ :List of 4\n",
      "  .. ..$ :List of 4\n",
      "  .. ..$ :List of 4\n",
      "  .. ..$ :List of 4\n",
      "  ..$ listing_expiration_date: chr \"20231231\"\n",
      "  ..$ openfda                :List of 7\n",
      "  .. ..$ manufacturer_name:List of 1\n",
      "  .. ..$ rxcui            :List of 1\n",
      "  .. ..$ spl_set_id       :List of 1\n",
      "  .. ..$ nui              :List of 2\n",
      "  .. ..$ pharm_class_epc  :List of 1\n",
      "  .. ..$ pharm_class_cs   :List of 1\n",
      "  .. ..$ unii             :List of 1\n",
      "  ..$ marketing_category     : chr \"ANDA\"\n",
      "  ..$ dosage_form            : chr \"TABLET\"\n",
      "  ..$ spl_id                 : chr \"d0af3b06-4df9-4500-8595-70cf1c3dcb41\"\n",
      "  ..$ product_type           : chr \"HUMAN PRESCRIPTION DRUG\"\n",
      "  ..$ route                  :List of 1\n",
      "  .. ..$ : chr \"ORAL\"\n",
      "  ..$ marketing_start_date   : chr \"20180215\"\n",
      "  ..$ product_id             : chr \"71335-1856_d0af3b06-4df9-4500-8595-70cf1c3dcb41\"\n",
      "  ..$ application_number     : chr \"ANDA077856\"\n",
      "  ..$ brand_name_base        : chr \"Clonazepam\"\n",
      "  ..$ pharm_class            :List of 2\n",
      "  .. ..$ : chr \"Benzodiazepine [EPC]\"\n",
      "  .. ..$ : chr \"Benzodiazepines [CS]\"\n"
     ]
    }
   ],
   "source": [
    "# Process API request content\n",
    "ndcs_content <- content(ndcs)\n",
    "\n",
    "ndc_df <- ndcs_content$results\n",
    "\n",
    "glimpse(ndc_df)\n",
    "\n",
    "# Extract only results\n",
    "#ndc_df <- select(ndc_df,product_ndc,generic_name) \n",
    "                 \n",
    "#ndc_df"
   ]
  },
  {
   "cell_type": "code",
   "execution_count": 31,
   "id": "3f7afb42-253b-4742-a523-aadfa4beb447",
   "metadata": {},
   "outputs": [],
   "source": [
    "# Apply function across all list elements to extract the name and address of each repo\n",
    "#ndcs_df <- lapply(ndcs_content, function(x) {\n",
    "#    df <- data.frame(product_ndc = x$product_ndc,\n",
    "#                     generic_name = x$generic_name)\n",
    "#    }) %>% bind_rows()"
   ]
  },
  {
   "cell_type": "code",
   "execution_count": null,
   "id": "a3c69290-dc7a-474c-bdcf-c39f3a66d035",
   "metadata": {},
   "outputs": [],
   "source": []
  }
 ],
 "metadata": {
  "kernelspec": {
   "display_name": "R",
   "language": "R",
   "name": "ir"
  },
  "language_info": {
   "codemirror_mode": "r",
   "file_extension": ".r",
   "mimetype": "text/x-r-source",
   "name": "R",
   "pygments_lexer": "r",
   "version": "4.2.1"
  }
 },
 "nbformat": 4,
 "nbformat_minor": 5
}
